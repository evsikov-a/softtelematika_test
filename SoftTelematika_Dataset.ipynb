{
 "cells": [
  {
   "cell_type": "code",
   "execution_count": 1,
   "metadata": {},
   "outputs": [],
   "source": [
    "import os\n",
    "import sys\n",
    "import json\n",
    "from collections import namedtuple\n",
    "\n",
    "import numpy as np\n",
    "from PIL import Image\n",
    "from matplotlib import pyplot as plt\n",
    "import seaborn as sns\n",
    "from tqdm.notebook import trange, tqdm\n",
    "\n",
    "from labels import labels\n"
   ]
  },
  {
   "cell_type": "markdown",
   "metadata": {},
   "source": [
    "## Функции"
   ]
  },
  {
   "cell_type": "code",
   "execution_count": 15,
   "metadata": {
    "scrolled": true
   },
   "outputs": [],
   "source": [
    "def create_sityscapes_masks(n: int, needed_classes: list, classes_ids: dict, dataset_name: str,\n",
    "                            labels_path: str, crop: tuple, result_shape: tuple) -> None:\n",
    "    \"\"\"\n",
    "    Создание n-го количества масок необходимых классов\n",
    "    \"\"\"\n",
    "    i = 0\n",
    "    pbar = tqdm()\n",
    "    pbar.reset(total=n)\n",
    "    \n",
    "    ladels_dirs = os.listdir(labels_path)[1:]\n",
    "    # Проход по папкам train и val\n",
    "    for ladels_dir in ladels_dirs:\n",
    "        ladels_dir_path = os.path.join(labels_path, ladels_dir)\n",
    "        labels_cities = os.listdir(ladels_dir_path)\n",
    "        # Проход по папкам городов\n",
    "        for labels_city in labels_cities:\n",
    "            labels_city_path = os.path.join(ladels_dir_path, labels_city)\n",
    "            images_names = os.listdir(labels_city_path)\n",
    "            # Проход по изображениям масок\n",
    "            for image_name in images_names:\n",
    "                \n",
    "                if 'labelIds' in image_name:\n",
    "                    image_path = os.path.join(labels_city_path, image_name)\n",
    "                    image = Image.open(image_path)\n",
    "                    cropped_img = np.asarray(image.crop(crop))\n",
    "                    \n",
    "                    # Проход по классам\n",
    "                    for needed_class in needed_classes:\n",
    "                        mask = np.ma.masked_where(cropped_img == classes_ids[needed_class], cropped_img).mask.astype('uint8')\n",
    "                        final_mask = np.zeros(result_shape).astype('uint8')\n",
    "                        #Обработка пустой маски\n",
    "                        if (mask == 1).sum() == 0:\n",
    "                            Image.fromarray(final_mask).save(f'{dataset_name}/masks/{needed_class}/{image_name[:-20]}.png')\n",
    "                        else:\n",
    "                            for j in range(3):\n",
    "                                final_mask[:,:,j] = mask\n",
    "                            Image.fromarray(final_mask*255).save(f'{dataset_name}/masks/{needed_class}/{image_name[:-20]}.png') \n",
    "                    \n",
    "                    pbar.update()\n",
    "                    i += 1\n",
    "                    if i == n:\n",
    "                        sys.exit()\n",
    "                    "
   ]
  },
  {
   "cell_type": "code",
   "execution_count": 16,
   "metadata": {},
   "outputs": [],
   "source": [
    "def create_sityscapes_images(n: int, dataset_name: str, source_path: str, crop: tuple) -> None:\n",
    "    \"\"\"\n",
    "    Создает n обрезанных изображений для датасета\n",
    "    \"\"\"\n",
    "    i = 0\n",
    "    pbar = tqdm()\n",
    "    pbar.reset(total=n)\n",
    "    \n",
    "    ladels_dirs = os.listdir(source_path)[1:]\n",
    "    # Проход по папкам train и val\n",
    "    for ladels_dir in ladels_dirs:\n",
    "        ladels_dir_path = os.path.join(source_path, ladels_dir)\n",
    "        labels_cities = os.listdir(ladels_dir_path)\n",
    "        # Проход по папкам городов\n",
    "        for labels_city in labels_cities:\n",
    "            labels_city_path = os.path.join(ladels_dir_path, labels_city)\n",
    "            images_names = os.listdir(labels_city_path)\n",
    "            # Проход по изображениям\n",
    "            for image_name in images_names:\n",
    "                image_path = os.path.join(labels_city_path, image_name)\n",
    "                \n",
    "                image = Image.open(image_path)\n",
    "                cropped_img = image.crop(crop)\n",
    "                cropped_img.save(f'{dataset_name}/images/{image_name[:-16]}.png')\n",
    "                \n",
    "                pbar.update()\n",
    "                i += 1\n",
    "                if i == n:\n",
    "                    sys.exit()"
   ]
  },
  {
   "cell_type": "markdown",
   "metadata": {},
   "source": [
    "## Создание датасета"
   ]
  },
  {
   "cell_type": "code",
   "execution_count": 4,
   "metadata": {},
   "outputs": [],
   "source": [
    "classes_ids = {label.name:label.id for label in labels}"
   ]
  },
  {
   "cell_type": "code",
   "execution_count": 17,
   "metadata": {},
   "outputs": [],
   "source": [
    "needed_classes = ['ground', 'road', 'sidewalk', 'building', 'fence',\n",
    "                  'traffic light', 'traffic sign', 'vegetation', 'sky',\n",
    "                  'car', 'truck', 'bus', 'train', 'motorcycle', 'bicycle']\n",
    "\n",
    "labels_path = 'gtFine_trainvaltest/gtFine'\n",
    "source_path = 'leftImg8bit_trainvaltest\\leftImg8bit'\n",
    "dataset_name = 'dataset_square1024_1000items'\n",
    "n = 1000\n",
    "crop = (512, 0, 1024+512, 1024)\n",
    "shape = (1024, 1024, 3)\n"
   ]
  },
  {
   "cell_type": "code",
   "execution_count": 8,
   "metadata": {},
   "outputs": [],
   "source": [
    "os.mkdir(dataset_name)\n",
    "os.mkdir(f'{dataset_name}/images')\n",
    "os.mkdir(f'{dataset_name}/masks')"
   ]
  },
  {
   "cell_type": "code",
   "execution_count": 9,
   "metadata": {},
   "outputs": [],
   "source": [
    "for needed_class in needed_classes:\n",
    "    os.mkdir(f'{dataset_name}/masks/{needed_class}')"
   ]
  },
  {
   "cell_type": "code",
   "execution_count": null,
   "metadata": {
    "scrolled": false
   },
   "outputs": [
    {
     "data": {
      "application/vnd.jupyter.widget-view+json": {
       "model_id": "8f0e23558bec4ab288decc53f4c847d1",
       "version_major": 2,
       "version_minor": 0
      },
      "text/plain": [
       "HBox(children=(HTML(value=''), FloatProgress(value=1.0, bar_style='info', layout=Layout(width='20px'), max=1.0…"
      ]
     },
     "metadata": {},
     "output_type": "display_data"
    }
   ],
   "source": [
    "create_sityscapes_masks(n, needed_classes, classes_ids, dataset_name, labels_path, crop, shape)"
   ]
  },
  {
   "cell_type": "code",
   "execution_count": 14,
   "metadata": {
    "scrolled": true
   },
   "outputs": [
    {
     "data": {
      "application/vnd.jupyter.widget-view+json": {
       "model_id": "aed7099466004bb687ad620f48d12abc",
       "version_major": 2,
       "version_minor": 0
      },
      "text/plain": [
       "HBox(children=(HTML(value=''), FloatProgress(value=1.0, bar_style='info', layout=Layout(width='20px'), max=1.0…"
      ]
     },
     "metadata": {},
     "output_type": "display_data"
    },
    {
     "name": "stdout",
     "output_type": "stream",
     "text": [
      "aachen\n",
      "bochum\n",
      "bremen\n",
      "cologne\n",
      "darmstadt\n",
      "dusseldorf\n"
     ]
    },
    {
     "ename": "SystemExit",
     "evalue": "",
     "output_type": "error",
     "traceback": [
      "An exception has occurred, use %tb to see the full traceback.\n",
      "\u001b[1;31mSystemExit\u001b[0m\n"
     ]
    },
    {
     "name": "stderr",
     "output_type": "stream",
     "text": [
      "C:\\Users\\andre\\anaconda3\\lib\\site-packages\\IPython\\core\\interactiveshell.py:3426: UserWarning: To exit: use 'exit', 'quit', or Ctrl-D.\n",
      "  warn(\"To exit: use 'exit', 'quit', or Ctrl-D.\", stacklevel=1)\n"
     ]
    }
   ],
   "source": [
    "create_sityscapes_images(n, dataset_name, source_path, crop)"
   ]
  },
  {
   "cell_type": "code",
   "execution_count": null,
   "metadata": {},
   "outputs": [],
   "source": []
  }
 ],
 "metadata": {
  "kernelspec": {
   "display_name": "Python 3",
   "language": "python",
   "name": "python3"
  },
  "language_info": {
   "codemirror_mode": {
    "name": "ipython",
    "version": 3
   },
   "file_extension": ".py",
   "mimetype": "text/x-python",
   "name": "python",
   "nbconvert_exporter": "python",
   "pygments_lexer": "ipython3",
   "version": "3.8.5"
  }
 },
 "nbformat": 4,
 "nbformat_minor": 4
}
